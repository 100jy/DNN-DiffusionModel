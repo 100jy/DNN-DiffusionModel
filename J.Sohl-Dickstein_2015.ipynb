{
 "cells": [
  {
   "cell_type": "markdown",
   "metadata": {},
   "source": [
    "## Title\n",
    "Deep Unsupervised Learning using Nonequilibrium Thermodynamics\n",
    "\n",
    "## Authors and Year\n",
    "Jascha Sohl-Dickstein, Eric A. Weiss, Niru Maheswaranathan, Surya Ganguli (2015)\n",
    "\n",
    "## Abstract\n",
    "A central problem in machine learning involves modeling complex data-sets using highly flexible families of probability distributions in which learning, sampling, inference, and evaluation are still analytically or computationally tractable. Here, we develop an approach that simultaneously achieves both flexibility and tractability. The essential idea, inspired by non-equilibrium statistical physics, is to systematically and slowly destroy structure in a data distribution through an iterative forward diffusion process. We then learn a reverse diffusion process that restores structure in data, yielding a highly flexible and tractable generative model of the data. This approach allows us to rapidly learn, sample from, and evaluate probabilities in deep generative models with thousands of layers or time steps, as well as to compute conditional and posterior probabilities under the learned model. We additionally release an open source reference implementation of the algorithm.\n"
   ]
  },
  {
   "cell_type": "markdown",
   "metadata": {},
   "source": [
    "## Purpose and Idea\n",
    "\n",
    "### Tractable and Flexible\n",
    "\n"
   ]
  },
  {
   "cell_type": "markdown",
   "metadata": {},
   "source": [
    "## Model characteristics\n",
    "\n",
    "### Input \n",
    "$$\n",
    "  y = (y_1^\\mu, y_1^\\Sigma, \\cdots) \\in \\mathbb{R}^{2J},\\quad J : \\textrm{Number of pixels}\n",
    "$$\n",
    "\n",
    "### Network\n",
    "<p align=\"center\">\n",
    "    <img src=\"Sohl-Dickstein(2015).png\" alt=\"drawing\" width=\"400\"/>\n",
    "</p>"
   ]
  }
 ],
 "metadata": {
  "kernelspec": {
   "display_name": "Python 3.6.15 ('pafnucy_env': conda)",
   "language": "python",
   "name": "python3"
  },
  "language_info": {
   "name": "python",
   "version": "3.6.15"
  },
  "orig_nbformat": 4,
  "vscode": {
   "interpreter": {
    "hash": "684786639e538aadf6a4d28bdb8851ec87d947790f040921142ddd0becad74cd"
   }
  }
 },
 "nbformat": 4,
 "nbformat_minor": 2
}
